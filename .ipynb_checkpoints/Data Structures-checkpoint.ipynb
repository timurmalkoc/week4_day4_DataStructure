{
 "cells": [
  {
   "cell_type": "markdown",
   "id": "cb962e5a",
   "metadata": {},
   "source": [
    "#### Problem 1: Linked Lists\n",
    "\n",
    "Using the above examples as a guide, create your own interpretation of the a Linked List class. You can not use the code above exactly, but again it can be used as a guide. This problem requires you to think about how a linked list works and create one using your own logic.\n",
    "\n",
    "*Remember* A Linked List is a list of Nodes that point to the next node in the chain. The first Node starts out as Empty(None) and each node after points to the next.\n",
    "\n",
    "Your Linked List should have a traverse method and have the ability to add a new node"
   ]
  },
  {
   "cell_type": "code",
   "execution_count": 35,
   "id": "25035e74",
   "metadata": {},
   "outputs": [],
   "source": [
    "class Node:\n",
    "    def __init__(self, value):\n",
    "        self.value = value\n",
    "        self.next = None\n",
    "        \n",
    "    def __str__(self):\n",
    "        return self.value\n",
    "    \n",
    "    def __repr__(self):\n",
    "        return f'<Class Node: {self.value}>'\n",
    "        \n",
    "\n",
    "class LinkedList:\n",
    "    def __init__(self):\n",
    "        self.head = None\n",
    "        \n",
    "    def push(self, value):\n",
    "        new = Node(value)\n",
    "        new.next = self.head          # new node pointed to the first node\n",
    "        self.head = new               # list's head poninted the new node which is new head\n",
    "        \n",
    "    \n",
    "    def append(self, value):\n",
    "        new = Node(value)\n",
    "        \n",
    "        node = self.head              # Starting node from begining\n",
    "        \n",
    "        if not node:                  # if the list is emty\n",
    "            node.head = new           \n",
    "        else:\n",
    "            while node.next:\n",
    "                node = node.next      # move next\n",
    "            node.next = new           # add the new node\n",
    "    \n",
    "    \n",
    "    def insert(self, item, value):\n",
    "        prev_node = self.get(item)\n",
    "    \n",
    "        if not prev_node:\n",
    "            return                    # if there is no lookup item in the list quit without adding new one\n",
    "        \n",
    "        new = Node(value)\n",
    "        new.next = prev_node.next     # new node points previous node's pointing node, both pointing the same node\n",
    "        prev_node.next = new          # previous node points the new node\n",
    "        \n",
    "    def get(self, item):\n",
    "        node = self.head              # assigning list first item to note\n",
    "        while node:                   # keep looping until find desired item or end of list\n",
    "            if node.value == item:  \n",
    "                return node           # if there is a match return it\n",
    "            node = node.next          # move on next one\n",
    "        return None                   # if there is no match return None\n",
    "    \n",
    "    \n",
    "    def traverse(self):\n",
    "        node = self.head              # first node\n",
    "        while node:                   # if node exists then keep iteration\n",
    "            print(node)\n",
    "            node = node.next          # move to next one\n",
    "            \n",
    "    \n",
    "   "
   ]
  },
  {
   "cell_type": "code",
   "execution_count": 36,
   "id": "722cb8e4",
   "metadata": {},
   "outputs": [
    {
     "name": "stdout",
     "output_type": "stream",
     "text": [
      "99\n",
      "22\n",
      "23\n",
      "14\n",
      "10\n",
      "34\n"
     ]
    }
   ],
   "source": [
    "num = LinkedList()\n",
    "num.push('10')\n",
    "num.push('23')\n",
    "num.push('22')\n",
    "num.push('99')\n",
    "\n",
    "num.append('34')\n",
    "\n",
    "num.insert('23','14')\n",
    "\n",
    "num.traverse()"
   ]
  },
  {
   "cell_type": "code",
   "execution_count": null,
   "id": "d85f6e88",
   "metadata": {},
   "outputs": [],
   "source": []
  }
 ],
 "metadata": {
  "kernelspec": {
   "display_name": "Python 3 (ipykernel)",
   "language": "python",
   "name": "python3"
  },
  "language_info": {
   "codemirror_mode": {
    "name": "ipython",
    "version": 3
   },
   "file_extension": ".py",
   "mimetype": "text/x-python",
   "name": "python",
   "nbconvert_exporter": "python",
   "pygments_lexer": "ipython3",
   "version": "3.9.12"
  }
 },
 "nbformat": 4,
 "nbformat_minor": 5
}
